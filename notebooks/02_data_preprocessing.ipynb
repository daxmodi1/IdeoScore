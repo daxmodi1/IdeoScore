{
 "cells": [
  {
   "cell_type": "markdown",
   "id": "d916539e",
   "metadata": {},
   "source": [
    "## Data Preprocessing\n",
    "\n",
    "### Categorical Variables and Encoding"
   ]
  },
  {
   "cell_type": "code",
   "execution_count": 16,
   "id": "9f8efefe",
   "metadata": {},
   "outputs": [],
   "source": [
    "import numpy as np\n",
    "import pandas as pd\n",
    "import matplotlib.pyplot as plt\n",
    "import seaborn as sns"
   ]
  },
  {
   "cell_type": "code",
   "execution_count": 17,
   "id": "73da1706",
   "metadata": {},
   "outputs": [],
   "source": [
    "df = pd.read_csv('./data/clean_startup_success_dataset.csv')"
   ]
  },
  {
   "cell_type": "code",
   "execution_count": 18,
   "id": "5aed1813",
   "metadata": {},
   "outputs": [
    {
     "data": {
      "text/html": [
       "<div>\n",
       "<style scoped>\n",
       "    .dataframe tbody tr th:only-of-type {\n",
       "        vertical-align: middle;\n",
       "    }\n",
       "\n",
       "    .dataframe tbody tr th {\n",
       "        vertical-align: top;\n",
       "    }\n",
       "\n",
       "    .dataframe thead th {\n",
       "        text-align: right;\n",
       "    }\n",
       "</style>\n",
       "<table border=\"1\" class=\"dataframe\">\n",
       "  <thead>\n",
       "    <tr style=\"text-align: right;\">\n",
       "      <th></th>\n",
       "      <th>name</th>\n",
       "      <th>country</th>\n",
       "      <th>year</th>\n",
       "      <th>city</th>\n",
       "      <th>main_category</th>\n",
       "      <th>funding_rounds</th>\n",
       "      <th>funding_filled</th>\n",
       "      <th>first_funding_at</th>\n",
       "      <th>last_funding_at</th>\n",
       "      <th>status</th>\n",
       "      <th>status_class</th>\n",
       "      <th>fail</th>\n",
       "      <th>operating</th>\n",
       "      <th>success</th>\n",
       "    </tr>\n",
       "  </thead>\n",
       "  <tbody>\n",
       "    <tr>\n",
       "      <th>0</th>\n",
       "      <td>#fame</td>\n",
       "      <td>IND</td>\n",
       "      <td>2015</td>\n",
       "      <td>Mumbai</td>\n",
       "      <td>Media</td>\n",
       "      <td>1</td>\n",
       "      <td>10000000</td>\n",
       "      <td>2015-01-05</td>\n",
       "      <td>2015-01-05</td>\n",
       "      <td>operating</td>\n",
       "      <td>operating</td>\n",
       "      <td>False</td>\n",
       "      <td>True</td>\n",
       "      <td>False</td>\n",
       "    </tr>\n",
       "    <tr>\n",
       "      <th>1</th>\n",
       "      <td>:Qounter</td>\n",
       "      <td>USA</td>\n",
       "      <td>2014</td>\n",
       "      <td>Delaware City</td>\n",
       "      <td>Application Platforms</td>\n",
       "      <td>2</td>\n",
       "      <td>700000</td>\n",
       "      <td>2014-03-01</td>\n",
       "      <td>2014-10-14</td>\n",
       "      <td>operating</td>\n",
       "      <td>operating</td>\n",
       "      <td>False</td>\n",
       "      <td>True</td>\n",
       "      <td>False</td>\n",
       "    </tr>\n",
       "    <tr>\n",
       "      <th>2</th>\n",
       "      <td>(THE) ONE of THEM,Inc.</td>\n",
       "      <td>GBR</td>\n",
       "      <td>2014</td>\n",
       "      <td>NaN</td>\n",
       "      <td>Apps</td>\n",
       "      <td>1</td>\n",
       "      <td>3406878</td>\n",
       "      <td>2014-01-30</td>\n",
       "      <td>2014-01-30</td>\n",
       "      <td>operating</td>\n",
       "      <td>operating</td>\n",
       "      <td>False</td>\n",
       "      <td>True</td>\n",
       "      <td>False</td>\n",
       "    </tr>\n",
       "    <tr>\n",
       "      <th>3</th>\n",
       "      <td>0-6.com</td>\n",
       "      <td>CHN</td>\n",
       "      <td>2007</td>\n",
       "      <td>Beijing</td>\n",
       "      <td>Curated Web</td>\n",
       "      <td>1</td>\n",
       "      <td>2000000</td>\n",
       "      <td>2008-03-19</td>\n",
       "      <td>2008-03-19</td>\n",
       "      <td>operating</td>\n",
       "      <td>operating</td>\n",
       "      <td>False</td>\n",
       "      <td>True</td>\n",
       "      <td>False</td>\n",
       "    </tr>\n",
       "    <tr>\n",
       "      <th>4</th>\n",
       "      <td>004 Technologies</td>\n",
       "      <td>USA</td>\n",
       "      <td>2010</td>\n",
       "      <td>Champaign</td>\n",
       "      <td>Software</td>\n",
       "      <td>1</td>\n",
       "      <td>10070591</td>\n",
       "      <td>2014-07-24</td>\n",
       "      <td>2014-07-24</td>\n",
       "      <td>operating</td>\n",
       "      <td>operating</td>\n",
       "      <td>False</td>\n",
       "      <td>True</td>\n",
       "      <td>False</td>\n",
       "    </tr>\n",
       "  </tbody>\n",
       "</table>\n",
       "</div>"
      ],
      "text/plain": [
       "                     name country  year           city          main_category  \\\n",
       "0                   #fame     IND  2015         Mumbai                  Media   \n",
       "1                :Qounter     USA  2014  Delaware City  Application Platforms   \n",
       "2  (THE) ONE of THEM,Inc.     GBR  2014            NaN                   Apps   \n",
       "3                 0-6.com     CHN  2007        Beijing            Curated Web   \n",
       "4        004 Technologies     USA  2010      Champaign               Software   \n",
       "\n",
       "   funding_rounds  funding_filled first_funding_at last_funding_at     status  \\\n",
       "0               1        10000000       2015-01-05      2015-01-05  operating   \n",
       "1               2          700000       2014-03-01      2014-10-14  operating   \n",
       "2               1         3406878       2014-01-30      2014-01-30  operating   \n",
       "3               1         2000000       2008-03-19      2008-03-19  operating   \n",
       "4               1        10070591       2014-07-24      2014-07-24  operating   \n",
       "\n",
       "  status_class   fail  operating  success  \n",
       "0    operating  False       True    False  \n",
       "1    operating  False       True    False  \n",
       "2    operating  False       True    False  \n",
       "3    operating  False       True    False  \n",
       "4    operating  False       True    False  "
      ]
     },
     "execution_count": 18,
     "metadata": {},
     "output_type": "execute_result"
    }
   ],
   "source": [
    "df.head()"
   ]
  },
  {
   "cell_type": "markdown",
   "id": "a5bb041e",
   "metadata": {},
   "source": [
    "so now we have anaylized the data & cleaned it. Now we will preprocess the data & train the model."
   ]
  },
  {
   "cell_type": "code",
   "execution_count": 19,
   "id": "519dd6bf",
   "metadata": {},
   "outputs": [],
   "source": [
    "df[\"first_funding_at\"] = pd.to_datetime(df[\"first_funding_at\"], errors='coerce')\n",
    "df[\"last_funding_at\"] = pd.to_datetime(df[\"last_funding_at\"], errors='coerce')\n"
   ]
  },
  {
   "cell_type": "markdown",
   "id": "bb72a2c5",
   "metadata": {},
   "source": [
    "Let's also include the new feature time gap which is the difference between last funding date and first funding date."
   ]
  },
  {
   "cell_type": "code",
   "execution_count": 20,
   "id": "d1bdac61",
   "metadata": {},
   "outputs": [
    {
     "data": {
      "text/plain": [
       "0          0.0\n",
       "1        227.0\n",
       "2          0.0\n",
       "3          0.0\n",
       "4          0.0\n",
       "         ...  \n",
       "64852      0.0\n",
       "64853    851.0\n",
       "64854      0.0\n",
       "64855      0.0\n",
       "64856      0.0\n",
       "Name: funding_duration_days, Length: 64857, dtype: float64"
      ]
     },
     "execution_count": 20,
     "metadata": {},
     "output_type": "execute_result"
    }
   ],
   "source": [
    "df['funding_duration_days'] = (df['last_funding_at'] - df['first_funding_at']).dt.days\n",
    "df['funding_duration_days']"
   ]
  },
  {
   "cell_type": "code",
   "execution_count": 21,
   "id": "133a8c6d",
   "metadata": {},
   "outputs": [],
   "source": [
    "df[\"funding_year\"] = df[\"first_funding_at\"].dt.year\n",
    "df[\"funding_month\"] = df[\"first_funding_at\"].dt.month\n",
    "df[\"funding_dayofweek\"] = df[\"first_funding_at\"].dt.dayofweek"
   ]
  },
  {
   "cell_type": "code",
   "execution_count": 22,
   "id": "5811c41c",
   "metadata": {},
   "outputs": [
    {
     "data": {
      "text/html": [
       "<div>\n",
       "<style scoped>\n",
       "    .dataframe tbody tr th:only-of-type {\n",
       "        vertical-align: middle;\n",
       "    }\n",
       "\n",
       "    .dataframe tbody tr th {\n",
       "        vertical-align: top;\n",
       "    }\n",
       "\n",
       "    .dataframe thead th {\n",
       "        text-align: right;\n",
       "    }\n",
       "</style>\n",
       "<table border=\"1\" class=\"dataframe\">\n",
       "  <thead>\n",
       "    <tr style=\"text-align: right;\">\n",
       "      <th></th>\n",
       "      <th>name</th>\n",
       "      <th>country</th>\n",
       "      <th>year</th>\n",
       "      <th>city</th>\n",
       "      <th>main_category</th>\n",
       "      <th>funding_rounds</th>\n",
       "      <th>funding_filled</th>\n",
       "      <th>first_funding_at</th>\n",
       "      <th>last_funding_at</th>\n",
       "      <th>status</th>\n",
       "      <th>status_class</th>\n",
       "      <th>fail</th>\n",
       "      <th>operating</th>\n",
       "      <th>success</th>\n",
       "      <th>funding_duration_days</th>\n",
       "      <th>funding_year</th>\n",
       "      <th>funding_month</th>\n",
       "      <th>funding_dayofweek</th>\n",
       "    </tr>\n",
       "  </thead>\n",
       "  <tbody>\n",
       "    <tr>\n",
       "      <th>0</th>\n",
       "      <td>#fame</td>\n",
       "      <td>IND</td>\n",
       "      <td>2015</td>\n",
       "      <td>Mumbai</td>\n",
       "      <td>Media</td>\n",
       "      <td>1</td>\n",
       "      <td>10000000</td>\n",
       "      <td>2015-01-05</td>\n",
       "      <td>2015-01-05</td>\n",
       "      <td>operating</td>\n",
       "      <td>operating</td>\n",
       "      <td>False</td>\n",
       "      <td>True</td>\n",
       "      <td>False</td>\n",
       "      <td>0.0</td>\n",
       "      <td>2015.0</td>\n",
       "      <td>1.0</td>\n",
       "      <td>0.0</td>\n",
       "    </tr>\n",
       "    <tr>\n",
       "      <th>1</th>\n",
       "      <td>:Qounter</td>\n",
       "      <td>USA</td>\n",
       "      <td>2014</td>\n",
       "      <td>Delaware City</td>\n",
       "      <td>Application Platforms</td>\n",
       "      <td>2</td>\n",
       "      <td>700000</td>\n",
       "      <td>2014-03-01</td>\n",
       "      <td>2014-10-14</td>\n",
       "      <td>operating</td>\n",
       "      <td>operating</td>\n",
       "      <td>False</td>\n",
       "      <td>True</td>\n",
       "      <td>False</td>\n",
       "      <td>227.0</td>\n",
       "      <td>2014.0</td>\n",
       "      <td>3.0</td>\n",
       "      <td>5.0</td>\n",
       "    </tr>\n",
       "    <tr>\n",
       "      <th>2</th>\n",
       "      <td>(THE) ONE of THEM,Inc.</td>\n",
       "      <td>GBR</td>\n",
       "      <td>2014</td>\n",
       "      <td>NaN</td>\n",
       "      <td>Apps</td>\n",
       "      <td>1</td>\n",
       "      <td>3406878</td>\n",
       "      <td>2014-01-30</td>\n",
       "      <td>2014-01-30</td>\n",
       "      <td>operating</td>\n",
       "      <td>operating</td>\n",
       "      <td>False</td>\n",
       "      <td>True</td>\n",
       "      <td>False</td>\n",
       "      <td>0.0</td>\n",
       "      <td>2014.0</td>\n",
       "      <td>1.0</td>\n",
       "      <td>3.0</td>\n",
       "    </tr>\n",
       "    <tr>\n",
       "      <th>3</th>\n",
       "      <td>0-6.com</td>\n",
       "      <td>CHN</td>\n",
       "      <td>2007</td>\n",
       "      <td>Beijing</td>\n",
       "      <td>Curated Web</td>\n",
       "      <td>1</td>\n",
       "      <td>2000000</td>\n",
       "      <td>2008-03-19</td>\n",
       "      <td>2008-03-19</td>\n",
       "      <td>operating</td>\n",
       "      <td>operating</td>\n",
       "      <td>False</td>\n",
       "      <td>True</td>\n",
       "      <td>False</td>\n",
       "      <td>0.0</td>\n",
       "      <td>2008.0</td>\n",
       "      <td>3.0</td>\n",
       "      <td>2.0</td>\n",
       "    </tr>\n",
       "    <tr>\n",
       "      <th>4</th>\n",
       "      <td>004 Technologies</td>\n",
       "      <td>USA</td>\n",
       "      <td>2010</td>\n",
       "      <td>Champaign</td>\n",
       "      <td>Software</td>\n",
       "      <td>1</td>\n",
       "      <td>10070591</td>\n",
       "      <td>2014-07-24</td>\n",
       "      <td>2014-07-24</td>\n",
       "      <td>operating</td>\n",
       "      <td>operating</td>\n",
       "      <td>False</td>\n",
       "      <td>True</td>\n",
       "      <td>False</td>\n",
       "      <td>0.0</td>\n",
       "      <td>2014.0</td>\n",
       "      <td>7.0</td>\n",
       "      <td>3.0</td>\n",
       "    </tr>\n",
       "  </tbody>\n",
       "</table>\n",
       "</div>"
      ],
      "text/plain": [
       "                     name country  year           city          main_category  \\\n",
       "0                   #fame     IND  2015         Mumbai                  Media   \n",
       "1                :Qounter     USA  2014  Delaware City  Application Platforms   \n",
       "2  (THE) ONE of THEM,Inc.     GBR  2014            NaN                   Apps   \n",
       "3                 0-6.com     CHN  2007        Beijing            Curated Web   \n",
       "4        004 Technologies     USA  2010      Champaign               Software   \n",
       "\n",
       "   funding_rounds  funding_filled first_funding_at last_funding_at     status  \\\n",
       "0               1        10000000       2015-01-05      2015-01-05  operating   \n",
       "1               2          700000       2014-03-01      2014-10-14  operating   \n",
       "2               1         3406878       2014-01-30      2014-01-30  operating   \n",
       "3               1         2000000       2008-03-19      2008-03-19  operating   \n",
       "4               1        10070591       2014-07-24      2014-07-24  operating   \n",
       "\n",
       "  status_class   fail  operating  success  funding_duration_days  \\\n",
       "0    operating  False       True    False                    0.0   \n",
       "1    operating  False       True    False                  227.0   \n",
       "2    operating  False       True    False                    0.0   \n",
       "3    operating  False       True    False                    0.0   \n",
       "4    operating  False       True    False                    0.0   \n",
       "\n",
       "   funding_year  funding_month  funding_dayofweek  \n",
       "0        2015.0            1.0                0.0  \n",
       "1        2014.0            3.0                5.0  \n",
       "2        2014.0            1.0                3.0  \n",
       "3        2008.0            3.0                2.0  \n",
       "4        2014.0            7.0                3.0  "
      ]
     },
     "execution_count": 22,
     "metadata": {},
     "output_type": "execute_result"
    }
   ],
   "source": [
    "df.head()"
   ]
  },
  {
   "cell_type": "code",
   "execution_count": 23,
   "id": "28baa049",
   "metadata": {},
   "outputs": [
    {
     "data": {
      "text/plain": [
       "(135,)"
      ]
     },
     "execution_count": 23,
     "metadata": {},
     "output_type": "execute_result"
    }
   ],
   "source": [
    "df['country'].unique().shape"
   ]
  },
  {
   "cell_type": "markdown",
   "id": "88a53dc1",
   "metadata": {},
   "source": [
    "* now that we have seen that we have categorical variables in our dataset, we will encode them using most suitable encoding techniques."
   ]
  },
  {
   "cell_type": "markdown",
   "id": "3aaa626c",
   "metadata": {},
   "source": [
    "For Country column, we will use Frequency Encoding, because it can tell the model how often a particular country appears in the dataset, which can be useful information for the model to learn from, and also it can tell the model about relative success of startups from different countries."
   ]
  },
  {
   "cell_type": "code",
   "execution_count": 26,
   "id": "63d749ed",
   "metadata": {},
   "outputs": [],
   "source": [
    "df[\"country_freq\"] = df[\"country\"].map(df[\"country\"].value_counts())"
   ]
  },
  {
   "cell_type": "code",
   "execution_count": 25,
   "id": "924e061b",
   "metadata": {},
   "outputs": [
    {
     "data": {
      "text/plain": [
       "array(['Mumbai', 'Delaware City', nan, ..., 'Zwolle', 'Middlefield',\n",
       "       'Damansara New Village'], shape=(4963,), dtype=object)"
      ]
     },
     "execution_count": 25,
     "metadata": {},
     "output_type": "execute_result"
    }
   ],
   "source": [
    "df['city'].unique()"
   ]
  },
  {
   "cell_type": "markdown",
   "id": "5951d2d0",
   "metadata": {},
   "source": [
    "Here we can see that country is also a categorical variable with many unique values. so we should use Frequency Encoding for this column."
   ]
  },
  {
   "cell_type": "code",
   "execution_count": 27,
   "id": "9e3a1571",
   "metadata": {},
   "outputs": [],
   "source": [
    "df['city_freq'] = df['city'].map(df['city'].value_counts())"
   ]
  },
  {
   "cell_type": "code",
   "execution_count": 29,
   "id": "69a4336a",
   "metadata": {},
   "outputs": [],
   "source": [
    "df.drop(columns=[\"first_funding_at\", \"last_funding_at\"], inplace=True)"
   ]
  },
  {
   "cell_type": "code",
   "execution_count": null,
   "id": "5a6d89ff",
   "metadata": {},
   "outputs": [],
   "source": [
    "grgrgssssssssss"
   ]
  }
 ],
 "metadata": {
  "kernelspec": {
   "display_name": "venv",
   "language": "python",
   "name": "python3"
  },
  "language_info": {
   "codemirror_mode": {
    "name": "ipython",
    "version": 3
   },
   "file_extension": ".py",
   "mimetype": "text/x-python",
   "name": "python",
   "nbconvert_exporter": "python",
   "pygments_lexer": "ipython3",
   "version": "3.13.7"
  }
 },
 "nbformat": 4,
 "nbformat_minor": 5
}
