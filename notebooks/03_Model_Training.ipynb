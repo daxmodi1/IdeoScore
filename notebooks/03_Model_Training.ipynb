{
 "cells": [
  {
   "cell_type": "markdown",
   "id": "0421fe58",
   "metadata": {},
   "source": [
    "## Model Training\n",
    "\n",
    "### importing necessary libraries"
   ]
  },
  {
   "cell_type": "code",
   "execution_count": 2,
   "id": "148ab0df",
   "metadata": {},
   "outputs": [],
   "source": [
    "import numpy as np\n",
    "import pandas as pd\n",
    "import seaborn as sns\n",
    "import matplotlib.pyplot as plt\n",
    "\n",
    "\n",
    "# modeling libraries\n",
    "from imblearn.over_sampling import SMOTE\n",
    "from sklearn.model_selection import train_test_split\n",
    "from sklearn.metrics import classification_report, confusion_matrix, roc_auc_score\n",
    "from sklearn.ensemble import RandomForestClassifier, AdaBoostClassifier\n",
    "from sklearn.tree import DecisionTreeClassifier\n",
    "from xgboost import XGBClassifier\n",
    "from catboost import CatBoostClassifier\n",
    "from sklearn.linear_model import LogisticRegression\n",
    "from sklearn.svm import SVC\n",
    "from sklearn.naive_bayes import GaussianNB\n",
    "from sklearn.preprocessing import StandardScaler"
   ]
  },
  {
   "cell_type": "code",
   "execution_count": 3,
   "id": "96ae5f99",
   "metadata": {},
   "outputs": [
    {
     "data": {
      "text/html": [
       "<div>\n",
       "<style scoped>\n",
       "    .dataframe tbody tr th:only-of-type {\n",
       "        vertical-align: middle;\n",
       "    }\n",
       "\n",
       "    .dataframe tbody tr th {\n",
       "        vertical-align: top;\n",
       "    }\n",
       "\n",
       "    .dataframe thead th {\n",
       "        text-align: right;\n",
       "    }\n",
       "</style>\n",
       "<table border=\"1\" class=\"dataframe\">\n",
       "  <thead>\n",
       "    <tr style=\"text-align: right;\">\n",
       "      <th></th>\n",
       "      <th>country_freq</th>\n",
       "      <th>year</th>\n",
       "      <th>city_freq</th>\n",
       "      <th>main_category_freq</th>\n",
       "      <th>funding_rounds</th>\n",
       "      <th>funding_filled</th>\n",
       "      <th>first_funding_year</th>\n",
       "      <th>last_funding_year</th>\n",
       "      <th>funding_duration_days</th>\n",
       "      <th>avg_funding_per_round</th>\n",
       "    </tr>\n",
       "  </thead>\n",
       "  <tbody>\n",
       "    <tr>\n",
       "      <th>0</th>\n",
       "      <td>1736</td>\n",
       "      <td>2015</td>\n",
       "      <td>288</td>\n",
       "      <td>226</td>\n",
       "      <td>1</td>\n",
       "      <td>10000000</td>\n",
       "      <td>2015</td>\n",
       "      <td>2015</td>\n",
       "      <td>0</td>\n",
       "      <td>9.999900e+06</td>\n",
       "    </tr>\n",
       "    <tr>\n",
       "      <th>1</th>\n",
       "      <td>40920</td>\n",
       "      <td>2014</td>\n",
       "      <td>5</td>\n",
       "      <td>228</td>\n",
       "      <td>2</td>\n",
       "      <td>700000</td>\n",
       "      <td>2014</td>\n",
       "      <td>2014</td>\n",
       "      <td>227</td>\n",
       "      <td>3.499983e+05</td>\n",
       "    </tr>\n",
       "    <tr>\n",
       "      <th>2</th>\n",
       "      <td>4009</td>\n",
       "      <td>2014</td>\n",
       "      <td>7927</td>\n",
       "      <td>1501</td>\n",
       "      <td>1</td>\n",
       "      <td>3406878</td>\n",
       "      <td>2014</td>\n",
       "      <td>2014</td>\n",
       "      <td>0</td>\n",
       "      <td>3.406844e+06</td>\n",
       "    </tr>\n",
       "    <tr>\n",
       "      <th>3</th>\n",
       "      <td>1714</td>\n",
       "      <td>2007</td>\n",
       "      <td>573</td>\n",
       "      <td>2181</td>\n",
       "      <td>1</td>\n",
       "      <td>2000000</td>\n",
       "      <td>2008</td>\n",
       "      <td>2008</td>\n",
       "      <td>0</td>\n",
       "      <td>1.999980e+06</td>\n",
       "    </tr>\n",
       "    <tr>\n",
       "      <th>4</th>\n",
       "      <td>40920</td>\n",
       "      <td>2010</td>\n",
       "      <td>32</td>\n",
       "      <td>4010</td>\n",
       "      <td>1</td>\n",
       "      <td>10070591</td>\n",
       "      <td>2014</td>\n",
       "      <td>2014</td>\n",
       "      <td>0</td>\n",
       "      <td>1.007049e+07</td>\n",
       "    </tr>\n",
       "  </tbody>\n",
       "</table>\n",
       "</div>"
      ],
      "text/plain": [
       "   country_freq  year  city_freq  main_category_freq  funding_rounds  \\\n",
       "0          1736  2015        288                 226               1   \n",
       "1         40920  2014          5                 228               2   \n",
       "2          4009  2014       7927                1501               1   \n",
       "3          1714  2007        573                2181               1   \n",
       "4         40920  2010         32                4010               1   \n",
       "\n",
       "   funding_filled  first_funding_year  last_funding_year  \\\n",
       "0        10000000                2015               2015   \n",
       "1          700000                2014               2014   \n",
       "2         3406878                2014               2014   \n",
       "3         2000000                2008               2008   \n",
       "4        10070591                2014               2014   \n",
       "\n",
       "   funding_duration_days  avg_funding_per_round  \n",
       "0                      0           9.999900e+06  \n",
       "1                    227           3.499983e+05  \n",
       "2                      0           3.406844e+06  \n",
       "3                      0           1.999980e+06  \n",
       "4                      0           1.007049e+07  "
      ]
     },
     "execution_count": 3,
     "metadata": {},
     "output_type": "execute_result"
    }
   ],
   "source": [
    "X = pd.read_csv('./data/feature_matrix.csv')\n",
    "X.head()"
   ]
  },
  {
   "cell_type": "code",
   "execution_count": 4,
   "id": "f61e52f4",
   "metadata": {},
   "outputs": [
    {
     "data": {
      "text/html": [
       "<div>\n",
       "<style scoped>\n",
       "    .dataframe tbody tr th:only-of-type {\n",
       "        vertical-align: middle;\n",
       "    }\n",
       "\n",
       "    .dataframe tbody tr th {\n",
       "        vertical-align: top;\n",
       "    }\n",
       "\n",
       "    .dataframe thead th {\n",
       "        text-align: right;\n",
       "    }\n",
       "</style>\n",
       "<table border=\"1\" class=\"dataframe\">\n",
       "  <thead>\n",
       "    <tr style=\"text-align: right;\">\n",
       "      <th></th>\n",
       "      <th>success</th>\n",
       "    </tr>\n",
       "  </thead>\n",
       "  <tbody>\n",
       "    <tr>\n",
       "      <th>0</th>\n",
       "      <td>False</td>\n",
       "    </tr>\n",
       "    <tr>\n",
       "      <th>1</th>\n",
       "      <td>False</td>\n",
       "    </tr>\n",
       "    <tr>\n",
       "      <th>2</th>\n",
       "      <td>False</td>\n",
       "    </tr>\n",
       "    <tr>\n",
       "      <th>3</th>\n",
       "      <td>False</td>\n",
       "    </tr>\n",
       "    <tr>\n",
       "      <th>4</th>\n",
       "      <td>False</td>\n",
       "    </tr>\n",
       "  </tbody>\n",
       "</table>\n",
       "</div>"
      ],
      "text/plain": [
       "   success\n",
       "0    False\n",
       "1    False\n",
       "2    False\n",
       "3    False\n",
       "4    False"
      ]
     },
     "execution_count": 4,
     "metadata": {},
     "output_type": "execute_result"
    }
   ],
   "source": [
    "y = pd.read_csv('./data/target_variable.csv')\n",
    "y.head()"
   ]
  },
  {
   "cell_type": "code",
   "execution_count": 5,
   "id": "c84308f0",
   "metadata": {},
   "outputs": [],
   "source": [
    "y = y.values.ravel() "
   ]
  },
  {
   "cell_type": "code",
   "execution_count": 6,
   "id": "afcfbee8",
   "metadata": {},
   "outputs": [],
   "source": [
    "X_train, X_test, y_train, y_test = train_test_split(X, y, test_size=0.2, random_state=42)"
   ]
  },
  {
   "cell_type": "code",
   "execution_count": 7,
   "id": "8a99215e",
   "metadata": {},
   "outputs": [],
   "source": [
    "sm = SMOTE(random_state=42)\n",
    "X_train_res, y_train_res = sm.fit_resample(X_train, y_train)"
   ]
  },
  {
   "cell_type": "code",
   "execution_count": 8,
   "id": "44442ad1",
   "metadata": {},
   "outputs": [],
   "source": [
    "scaler = StandardScaler()\n",
    "X_train_res = scaler.fit_transform(X_train_res)\n",
    "X_test = scaler.transform(X_test)\n"
   ]
  },
  {
   "cell_type": "code",
   "execution_count": 9,
   "id": "4bee12ae",
   "metadata": {},
   "outputs": [
    {
     "name": "stdout",
     "output_type": "stream",
     "text": [
      "Logistic Regression Classification Report:\n",
      "              precision    recall  f1-score   support\n",
      "\n",
      "       False       0.95      0.78      0.86     11657\n",
      "        True       0.25      0.66      0.36      1315\n",
      "\n",
      "    accuracy                           0.76     12972\n",
      "   macro avg       0.60      0.72      0.61     12972\n",
      "weighted avg       0.88      0.76      0.81     12972\n",
      "\n",
      "accuracy: 0.7642614862781375\n",
      "[[9049 2608]\n",
      " [ 450  865]]\n"
     ]
    }
   ],
   "source": [
    "log_reg = LogisticRegression(class_weight='balanced', random_state=42)\n",
    "log_reg.fit(X_train_res, y_train_res)\n",
    "y_pred_log_reg = log_reg.predict(X_test)\n",
    "print(\"Logistic Regression Classification Report:\")\n",
    "print(classification_report(y_test, y_pred_log_reg))\n",
    "print(\"accuracy:\", log_reg.score(X_test, y_test))\n",
    "print(confusion_matrix(y_test, y_pred_log_reg))"
   ]
  },
  {
   "cell_type": "code",
   "execution_count": 10,
   "id": "06422c14",
   "metadata": {},
   "outputs": [
    {
     "name": "stdout",
     "output_type": "stream",
     "text": [
      "Random Forest Classification Report:\n",
      "              precision    recall  f1-score   support\n",
      "\n",
      "       False       0.94      0.89      0.91     11657\n",
      "        True       0.33      0.48      0.39      1315\n",
      "\n",
      "    accuracy                           0.85     12972\n",
      "   macro avg       0.63      0.68      0.65     12972\n",
      "weighted avg       0.88      0.85      0.86     12972\n",
      "\n",
      "accuracy: 0.8493678692568609\n",
      "[[10389  1268]\n",
      " [  686   629]]\n"
     ]
    }
   ],
   "source": [
    "rf_clf = RandomForestClassifier(class_weight='balanced', random_state=42)\n",
    "rf_clf.fit(X_train_res, y_train_res)\n",
    "y_pred_rf = rf_clf.predict(X_test)\n",
    "print(\"Random Forest Classification Report:\")\n",
    "print(classification_report(y_test, y_pred_rf))\n",
    "print(\"accuracy:\", rf_clf.score(X_test, y_test))\n",
    "print(confusion_matrix(y_test, y_pred_rf))"
   ]
  },
  {
   "cell_type": "code",
   "execution_count": 11,
   "id": "fb079d45",
   "metadata": {},
   "outputs": [
    {
     "name": "stdout",
     "output_type": "stream",
     "text": [
      "XGBoost Classification Report:\n",
      "              precision    recall  f1-score   support\n",
      "\n",
      "       False       0.97      0.68      0.79     11657\n",
      "        True       0.22      0.79      0.34      1315\n",
      "\n",
      "    accuracy                           0.69     12972\n",
      "   macro avg       0.59      0.73      0.57     12972\n",
      "weighted avg       0.89      0.69      0.75     12972\n",
      "\n",
      "accuracy: 0.6869411039161271\n",
      "[[7874 3783]\n",
      " [ 278 1037]]\n"
     ]
    }
   ],
   "source": [
    "xgb_clf = XGBClassifier(scale_pos_weight= (y_train==0).sum() / (y_train==1).sum(), eval_metric='logloss', random_state=42)\n",
    "xgb_clf.fit(X_train_res, y_train_res)\n",
    "y_pred_xgb = xgb_clf.predict(X_test)\n",
    "print(\"XGBoost Classification Report:\")\n",
    "print(classification_report(y_test, y_pred_xgb))\n",
    "print(\"accuracy:\", xgb_clf.score(X_test, y_test))\n",
    "print(confusion_matrix(y_test, y_pred_xgb))"
   ]
  },
  {
   "cell_type": "code",
   "execution_count": 12,
   "id": "e5af3338",
   "metadata": {},
   "outputs": [
    {
     "name": "stdout",
     "output_type": "stream",
     "text": [
      "AdaBoost Classification Report:\n",
      "              precision    recall  f1-score   support\n",
      "\n",
      "       False       0.95      0.85      0.89     11657\n",
      "        True       0.30      0.59      0.40      1315\n",
      "\n",
      "    accuracy                           0.82     12972\n",
      "   macro avg       0.63      0.72      0.65     12972\n",
      "weighted avg       0.88      0.82      0.84     12972\n",
      "\n",
      "accuracy: 0.8197656490903484\n",
      "[[9855 1802]\n",
      " [ 536  779]]\n"
     ]
    }
   ],
   "source": [
    "ada_clf = AdaBoostClassifier(\n",
    "    DecisionTreeClassifier(max_depth=3),\n",
    "    n_estimators=200,\n",
    "    learning_rate=0.5,\n",
    "    random_state=42\n",
    ")\n",
    "\n",
    "ada_clf.fit(X_train_res, y_train_res)\n",
    "y_pred_ada = ada_clf.predict(X_test)\n",
    "print(\"AdaBoost Classification Report:\")\n",
    "print(classification_report(y_test, y_pred_ada))\n",
    "print(\"accuracy:\", ada_clf.score(X_test, y_test))\n",
    "print(confusion_matrix(y_test, y_pred_ada))"
   ]
  },
  {
   "cell_type": "code",
   "execution_count": 13,
   "id": "151f0d54",
   "metadata": {},
   "outputs": [
    {
     "data": {
      "text/html": [
       "<div>\n",
       "<style scoped>\n",
       "    .dataframe tbody tr th:only-of-type {\n",
       "        vertical-align: middle;\n",
       "    }\n",
       "\n",
       "    .dataframe tbody tr th {\n",
       "        vertical-align: top;\n",
       "    }\n",
       "\n",
       "    .dataframe thead th {\n",
       "        text-align: right;\n",
       "    }\n",
       "</style>\n",
       "<table border=\"1\" class=\"dataframe\">\n",
       "  <thead>\n",
       "    <tr style=\"text-align: right;\">\n",
       "      <th></th>\n",
       "      <th>country</th>\n",
       "      <th>year</th>\n",
       "      <th>city</th>\n",
       "      <th>main_category</th>\n",
       "      <th>funding_rounds</th>\n",
       "      <th>funding_filled</th>\n",
       "      <th>first_funding_year</th>\n",
       "      <th>last_funding_year</th>\n",
       "      <th>funding_duration_days</th>\n",
       "      <th>avg_funding_per_round</th>\n",
       "    </tr>\n",
       "  </thead>\n",
       "  <tbody>\n",
       "    <tr>\n",
       "      <th>0</th>\n",
       "      <td>IND</td>\n",
       "      <td>2015</td>\n",
       "      <td>Mumbai</td>\n",
       "      <td>Media</td>\n",
       "      <td>1</td>\n",
       "      <td>10000000</td>\n",
       "      <td>2015</td>\n",
       "      <td>2015</td>\n",
       "      <td>0</td>\n",
       "      <td>9.999900e+06</td>\n",
       "    </tr>\n",
       "    <tr>\n",
       "      <th>1</th>\n",
       "      <td>USA</td>\n",
       "      <td>2014</td>\n",
       "      <td>Delaware City</td>\n",
       "      <td>Application Platforms</td>\n",
       "      <td>2</td>\n",
       "      <td>700000</td>\n",
       "      <td>2014</td>\n",
       "      <td>2014</td>\n",
       "      <td>227</td>\n",
       "      <td>3.499983e+05</td>\n",
       "    </tr>\n",
       "    <tr>\n",
       "      <th>2</th>\n",
       "      <td>GBR</td>\n",
       "      <td>2014</td>\n",
       "      <td>Unknown</td>\n",
       "      <td>Apps</td>\n",
       "      <td>1</td>\n",
       "      <td>3406878</td>\n",
       "      <td>2014</td>\n",
       "      <td>2014</td>\n",
       "      <td>0</td>\n",
       "      <td>3.406844e+06</td>\n",
       "    </tr>\n",
       "    <tr>\n",
       "      <th>3</th>\n",
       "      <td>CHN</td>\n",
       "      <td>2007</td>\n",
       "      <td>Beijing</td>\n",
       "      <td>Curated Web</td>\n",
       "      <td>1</td>\n",
       "      <td>2000000</td>\n",
       "      <td>2008</td>\n",
       "      <td>2008</td>\n",
       "      <td>0</td>\n",
       "      <td>1.999980e+06</td>\n",
       "    </tr>\n",
       "    <tr>\n",
       "      <th>4</th>\n",
       "      <td>USA</td>\n",
       "      <td>2010</td>\n",
       "      <td>Champaign</td>\n",
       "      <td>Software</td>\n",
       "      <td>1</td>\n",
       "      <td>10070591</td>\n",
       "      <td>2014</td>\n",
       "      <td>2014</td>\n",
       "      <td>0</td>\n",
       "      <td>1.007049e+07</td>\n",
       "    </tr>\n",
       "  </tbody>\n",
       "</table>\n",
       "</div>"
      ],
      "text/plain": [
       "  country  year           city          main_category  funding_rounds  \\\n",
       "0     IND  2015         Mumbai                  Media               1   \n",
       "1     USA  2014  Delaware City  Application Platforms               2   \n",
       "2     GBR  2014        Unknown                   Apps               1   \n",
       "3     CHN  2007        Beijing            Curated Web               1   \n",
       "4     USA  2010      Champaign               Software               1   \n",
       "\n",
       "   funding_filled  first_funding_year  last_funding_year  \\\n",
       "0        10000000                2015               2015   \n",
       "1          700000                2014               2014   \n",
       "2         3406878                2014               2014   \n",
       "3         2000000                2008               2008   \n",
       "4        10070591                2014               2014   \n",
       "\n",
       "   funding_duration_days  avg_funding_per_round  \n",
       "0                      0           9.999900e+06  \n",
       "1                    227           3.499983e+05  \n",
       "2                      0           3.406844e+06  \n",
       "3                      0           1.999980e+06  \n",
       "4                      0           1.007049e+07  "
      ]
     },
     "execution_count": 13,
     "metadata": {},
     "output_type": "execute_result"
    }
   ],
   "source": [
    "# For CatBoost\n",
    "df_cat = pd.read_csv('./data/feature_matrix_cat.csv')\n",
    "df_cat.head()\n"
   ]
  },
  {
   "cell_type": "code",
   "execution_count": 14,
   "id": "8531eeaf",
   "metadata": {},
   "outputs": [
    {
     "data": {
      "text/plain": [
       "country                  0\n",
       "year                     0\n",
       "city                     0\n",
       "main_category            0\n",
       "funding_rounds           0\n",
       "funding_filled           0\n",
       "first_funding_year       0\n",
       "last_funding_year        0\n",
       "funding_duration_days    0\n",
       "avg_funding_per_round    0\n",
       "dtype: int64"
      ]
     },
     "execution_count": 14,
     "metadata": {},
     "output_type": "execute_result"
    }
   ],
   "source": [
    "df_cat.isnull().sum()"
   ]
  },
  {
   "cell_type": "code",
   "execution_count": 17,
   "id": "05388ce5",
   "metadata": {},
   "outputs": [
    {
     "name": "stdout",
     "output_type": "stream",
     "text": [
      "              precision    recall  f1-score   support\n",
      "\n",
      "       False       0.97      0.76      0.85     11657\n",
      "        True       0.27      0.78      0.40      1315\n",
      "\n",
      "    accuracy                           0.76     12972\n",
      "   macro avg       0.62      0.77      0.62     12972\n",
      "weighted avg       0.90      0.76      0.80     12972\n",
      "\n"
     ]
    }
   ],
   "source": [
    "\n",
    "X = df_cat \n",
    "# Train/test split\n",
    "X_train, X_test, y_train, y_test = train_test_split(X, y, test_size=0.2, random_state=42)\n",
    "\n",
    "# List of categorical columns\n",
    "cat_features = ['country', 'city', 'main_category']\n",
    "\n",
    "# Train CatBoost\n",
    "cat_clf = CatBoostClassifier(\n",
    "    iterations=1000,\n",
    "    learning_rate=0.1,\n",
    "    depth=6,\n",
    "    eval_metric='F1',\n",
    "    class_weights=[1, (y_train==0).sum() / (y_train==1).sum()],\n",
    "    random_seed=42,\n",
    "    logging_level='Silent',\n",
    ")\n",
    "\n",
    "cat_clf.fit(    X_train, y_train,eval_set=(X_test, y_test),cat_features=cat_features,use_best_model=True,early_stopping_rounds=50)\n",
    "y_pred = cat_clf.predict(X_test)\n",
    "\n",
    "print(classification_report(y_test, y_pred))\n"
   ]
  },
  {
   "cell_type": "code",
   "execution_count": 18,
   "id": "95b3feec",
   "metadata": {},
   "outputs": [
    {
     "name": "stdout",
     "output_type": "stream",
     "text": [
      "accuracy: 0.759481961147086\n"
     ]
    }
   ],
   "source": [
    "print(\"accuracy:\", cat_clf.score(X_test, y_test))"
   ]
  },
  {
   "cell_type": "code",
   "execution_count": null,
   "id": "4bf7bf36",
   "metadata": {},
   "outputs": [],
   "source": []
  }
 ],
 "metadata": {
  "kernelspec": {
   "display_name": "venv",
   "language": "python",
   "name": "python3"
  },
  "language_info": {
   "codemirror_mode": {
    "name": "ipython",
    "version": 3
   },
   "file_extension": ".py",
   "mimetype": "text/x-python",
   "name": "python",
   "nbconvert_exporter": "python",
   "pygments_lexer": "ipython3",
   "version": "3.13.7"
  }
 },
 "nbformat": 4,
 "nbformat_minor": 5
}
